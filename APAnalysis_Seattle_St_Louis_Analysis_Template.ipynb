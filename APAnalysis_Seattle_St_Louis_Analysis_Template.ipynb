{
  "nbformat": 4,
  "nbformat_minor": 0,
  "metadata": {
    "colab": {
      "provenance": []
    },
    "kernelspec": {
      "name": "python3",
      "display_name": "Python 3"
    },
    "language_info": {
      "name": "python"
    }
  },
  "cells": [
    {
      "cell_type": "markdown",
      "source": [
        "## Introduction"
      ],
      "metadata": {
        "id": "cOSJyABoshOK"
      }
    },
    {
      "cell_type": "markdown",
      "source": [
        "##### $\\rightarrow$ Provide a brief introduction to the purpose of this notebook.\n",
        "\n",
        "This notebook is intended to analyse the cleaned precipitation data of the cities of Seattle and St. Louis.\n",
        "\n",
        "We are trying to determine which city is \"rainier\" by looking at which city experiences more days where it actually rains, and which city experiences more precipitation overall, meaning the actual recorded rain levels.\n",
        "\n",
        "\n",
        "The original Seattle and St. Louis data was sourced from NOAA:\n",
        "\n",
        "https://www.ncei.noaa.gov/cdo-web/search?datasetid=GHCND\n",
        "\n",
        "\n",
        "The cleaned data has been stored in my Seattle-Weather github repo:\n",
        "\n",
        "https://raw.githubusercontent.com/pintoanabel/Seattle-Weather/main/clean_seattle_stl_weather.csv\n",
        "\n",
        "\n",
        "The Google Colab notebook in which the data cleaning process occurred is also linked here:\n",
        "\n",
        "https://colab.research.google.com/drive/1cn3vD0eJrsATVTj_PBCxhdDgRtPYf7b7?usp=share_link\n",
        "\n"
      ],
      "metadata": {
        "id": "26hIPGtBsi7g"
      }
    },
    {
      "cell_type": "markdown",
      "source": [
        "## Import libraries"
      ],
      "metadata": {
        "id": "dwvtDMCYlPus"
      }
    },
    {
      "cell_type": "code",
      "execution_count": 1,
      "metadata": {
        "id": "DQZAzYri_ru5"
      },
      "outputs": [],
      "source": [
        "import pandas as pd\n",
        "import numpy as np\n",
        "import matplotlib.pyplot as plt\n",
        "import seaborn as sns\n",
        "sns.set_theme(style='whitegrid')\n",
        "import missingno as msno"
      ]
    },
    {
      "cell_type": "markdown",
      "source": [
        "## Load clean data"
      ],
      "metadata": {
        "id": "gm4P0PathHWa"
      }
    },
    {
      "cell_type": "markdown",
      "source": [
        "##### $\\rightarrow$ Load the clean data set from Github. "
      ],
      "metadata": {
        "id": "3f5ZlncEy6_-"
      }
    },
    {
      "cell_type": "code",
      "source": [
        "df_rain = pd.read_csv('https://raw.githubusercontent.com/pintoanabel/Seattle-Weather/main/clean_seattle_stl_weather.csv')"
      ],
      "metadata": {
        "id": "gUJV9NjM4nng"
      },
      "execution_count": 2,
      "outputs": []
    },
    {
      "cell_type": "markdown",
      "source": [
        "##### $\\rightarrow$ Review the contents of the data set."
      ],
      "metadata": {
        "id": "79uDfIiT4raQ"
      }
    },
    {
      "cell_type": "markdown",
      "source": [
        "Run the commented code to add in a 'year' column (I added a year column for my last analysis)"
      ],
      "metadata": {
        "id": "gcx_kLACJPfW"
      }
    },
    {
      "cell_type": "code",
      "source": [
        "## df_rain['year'] = pd.DatetimeIndex(df_rain['date']).year"
      ],
      "metadata": {
        "id": "uhEmYsWcJMBQ"
      },
      "execution_count": 21,
      "outputs": []
    },
    {
      "cell_type": "code",
      "source": [
        "df_rain"
      ],
      "metadata": {
        "colab": {
          "base_uri": "https://localhost:8080/",
          "height": 424
        },
        "id": "nuGX7wceIl9S",
        "outputId": "e7619911-8133-4fe2-dbd3-f9690ef39807"
      },
      "execution_count": 22,
      "outputs": [
        {
          "output_type": "execute_result",
          "data": {
            "text/plain": [
              "            date city  precipitation  day_of_year  month  year\n",
              "0     2018-01-01  STL           0.00            1      1  2018\n",
              "1     2018-01-02  STL           0.00            2      1  2018\n",
              "2     2018-01-03  STL           0.00            3      1  2018\n",
              "3     2018-01-04  STL           0.00            4      1  2018\n",
              "4     2018-01-05  STL           0.00            5      1  2018\n",
              "...          ...  ...            ...          ...    ...   ...\n",
              "3647  2022-12-27  SEA           0.78          361     12  2022\n",
              "3648  2022-12-28  SEA           0.40          362     12  2022\n",
              "3649  2022-12-29  SEA           0.03          363     12  2022\n",
              "3650  2022-12-30  SEA           0.62          364     12  2022\n",
              "3651  2022-12-31  SEA           0.17          365     12  2022\n",
              "\n",
              "[3652 rows x 6 columns]"
            ],
            "text/html": [
              "\n",
              "  <div id=\"df-268711bd-a7f0-4629-af56-0df38dcef026\">\n",
              "    <div class=\"colab-df-container\">\n",
              "      <div>\n",
              "<style scoped>\n",
              "    .dataframe tbody tr th:only-of-type {\n",
              "        vertical-align: middle;\n",
              "    }\n",
              "\n",
              "    .dataframe tbody tr th {\n",
              "        vertical-align: top;\n",
              "    }\n",
              "\n",
              "    .dataframe thead th {\n",
              "        text-align: right;\n",
              "    }\n",
              "</style>\n",
              "<table border=\"1\" class=\"dataframe\">\n",
              "  <thead>\n",
              "    <tr style=\"text-align: right;\">\n",
              "      <th></th>\n",
              "      <th>date</th>\n",
              "      <th>city</th>\n",
              "      <th>precipitation</th>\n",
              "      <th>day_of_year</th>\n",
              "      <th>month</th>\n",
              "      <th>year</th>\n",
              "    </tr>\n",
              "  </thead>\n",
              "  <tbody>\n",
              "    <tr>\n",
              "      <th>0</th>\n",
              "      <td>2018-01-01</td>\n",
              "      <td>STL</td>\n",
              "      <td>0.00</td>\n",
              "      <td>1</td>\n",
              "      <td>1</td>\n",
              "      <td>2018</td>\n",
              "    </tr>\n",
              "    <tr>\n",
              "      <th>1</th>\n",
              "      <td>2018-01-02</td>\n",
              "      <td>STL</td>\n",
              "      <td>0.00</td>\n",
              "      <td>2</td>\n",
              "      <td>1</td>\n",
              "      <td>2018</td>\n",
              "    </tr>\n",
              "    <tr>\n",
              "      <th>2</th>\n",
              "      <td>2018-01-03</td>\n",
              "      <td>STL</td>\n",
              "      <td>0.00</td>\n",
              "      <td>3</td>\n",
              "      <td>1</td>\n",
              "      <td>2018</td>\n",
              "    </tr>\n",
              "    <tr>\n",
              "      <th>3</th>\n",
              "      <td>2018-01-04</td>\n",
              "      <td>STL</td>\n",
              "      <td>0.00</td>\n",
              "      <td>4</td>\n",
              "      <td>1</td>\n",
              "      <td>2018</td>\n",
              "    </tr>\n",
              "    <tr>\n",
              "      <th>4</th>\n",
              "      <td>2018-01-05</td>\n",
              "      <td>STL</td>\n",
              "      <td>0.00</td>\n",
              "      <td>5</td>\n",
              "      <td>1</td>\n",
              "      <td>2018</td>\n",
              "    </tr>\n",
              "    <tr>\n",
              "      <th>...</th>\n",
              "      <td>...</td>\n",
              "      <td>...</td>\n",
              "      <td>...</td>\n",
              "      <td>...</td>\n",
              "      <td>...</td>\n",
              "      <td>...</td>\n",
              "    </tr>\n",
              "    <tr>\n",
              "      <th>3647</th>\n",
              "      <td>2022-12-27</td>\n",
              "      <td>SEA</td>\n",
              "      <td>0.78</td>\n",
              "      <td>361</td>\n",
              "      <td>12</td>\n",
              "      <td>2022</td>\n",
              "    </tr>\n",
              "    <tr>\n",
              "      <th>3648</th>\n",
              "      <td>2022-12-28</td>\n",
              "      <td>SEA</td>\n",
              "      <td>0.40</td>\n",
              "      <td>362</td>\n",
              "      <td>12</td>\n",
              "      <td>2022</td>\n",
              "    </tr>\n",
              "    <tr>\n",
              "      <th>3649</th>\n",
              "      <td>2022-12-29</td>\n",
              "      <td>SEA</td>\n",
              "      <td>0.03</td>\n",
              "      <td>363</td>\n",
              "      <td>12</td>\n",
              "      <td>2022</td>\n",
              "    </tr>\n",
              "    <tr>\n",
              "      <th>3650</th>\n",
              "      <td>2022-12-30</td>\n",
              "      <td>SEA</td>\n",
              "      <td>0.62</td>\n",
              "      <td>364</td>\n",
              "      <td>12</td>\n",
              "      <td>2022</td>\n",
              "    </tr>\n",
              "    <tr>\n",
              "      <th>3651</th>\n",
              "      <td>2022-12-31</td>\n",
              "      <td>SEA</td>\n",
              "      <td>0.17</td>\n",
              "      <td>365</td>\n",
              "      <td>12</td>\n",
              "      <td>2022</td>\n",
              "    </tr>\n",
              "  </tbody>\n",
              "</table>\n",
              "<p>3652 rows × 6 columns</p>\n",
              "</div>\n",
              "      <button class=\"colab-df-convert\" onclick=\"convertToInteractive('df-268711bd-a7f0-4629-af56-0df38dcef026')\"\n",
              "              title=\"Convert this dataframe to an interactive table.\"\n",
              "              style=\"display:none;\">\n",
              "        \n",
              "  <svg xmlns=\"http://www.w3.org/2000/svg\" height=\"24px\"viewBox=\"0 0 24 24\"\n",
              "       width=\"24px\">\n",
              "    <path d=\"M0 0h24v24H0V0z\" fill=\"none\"/>\n",
              "    <path d=\"M18.56 5.44l.94 2.06.94-2.06 2.06-.94-2.06-.94-.94-2.06-.94 2.06-2.06.94zm-11 1L8.5 8.5l.94-2.06 2.06-.94-2.06-.94L8.5 2.5l-.94 2.06-2.06.94zm10 10l.94 2.06.94-2.06 2.06-.94-2.06-.94-.94-2.06-.94 2.06-2.06.94z\"/><path d=\"M17.41 7.96l-1.37-1.37c-.4-.4-.92-.59-1.43-.59-.52 0-1.04.2-1.43.59L10.3 9.45l-7.72 7.72c-.78.78-.78 2.05 0 2.83L4 21.41c.39.39.9.59 1.41.59.51 0 1.02-.2 1.41-.59l7.78-7.78 2.81-2.81c.8-.78.8-2.07 0-2.86zM5.41 20L4 18.59l7.72-7.72 1.47 1.35L5.41 20z\"/>\n",
              "  </svg>\n",
              "      </button>\n",
              "      \n",
              "  <style>\n",
              "    .colab-df-container {\n",
              "      display:flex;\n",
              "      flex-wrap:wrap;\n",
              "      gap: 12px;\n",
              "    }\n",
              "\n",
              "    .colab-df-convert {\n",
              "      background-color: #E8F0FE;\n",
              "      border: none;\n",
              "      border-radius: 50%;\n",
              "      cursor: pointer;\n",
              "      display: none;\n",
              "      fill: #1967D2;\n",
              "      height: 32px;\n",
              "      padding: 0 0 0 0;\n",
              "      width: 32px;\n",
              "    }\n",
              "\n",
              "    .colab-df-convert:hover {\n",
              "      background-color: #E2EBFA;\n",
              "      box-shadow: 0px 1px 2px rgba(60, 64, 67, 0.3), 0px 1px 3px 1px rgba(60, 64, 67, 0.15);\n",
              "      fill: #174EA6;\n",
              "    }\n",
              "\n",
              "    [theme=dark] .colab-df-convert {\n",
              "      background-color: #3B4455;\n",
              "      fill: #D2E3FC;\n",
              "    }\n",
              "\n",
              "    [theme=dark] .colab-df-convert:hover {\n",
              "      background-color: #434B5C;\n",
              "      box-shadow: 0px 1px 3px 1px rgba(0, 0, 0, 0.15);\n",
              "      filter: drop-shadow(0px 1px 2px rgba(0, 0, 0, 0.3));\n",
              "      fill: #FFFFFF;\n",
              "    }\n",
              "  </style>\n",
              "\n",
              "      <script>\n",
              "        const buttonEl =\n",
              "          document.querySelector('#df-268711bd-a7f0-4629-af56-0df38dcef026 button.colab-df-convert');\n",
              "        buttonEl.style.display =\n",
              "          google.colab.kernel.accessAllowed ? 'block' : 'none';\n",
              "\n",
              "        async function convertToInteractive(key) {\n",
              "          const element = document.querySelector('#df-268711bd-a7f0-4629-af56-0df38dcef026');\n",
              "          const dataTable =\n",
              "            await google.colab.kernel.invokeFunction('convertToInteractive',\n",
              "                                                     [key], {});\n",
              "          if (!dataTable) return;\n",
              "\n",
              "          const docLinkHtml = 'Like what you see? Visit the ' +\n",
              "            '<a target=\"_blank\" href=https://colab.research.google.com/notebooks/data_table.ipynb>data table notebook</a>'\n",
              "            + ' to learn more about interactive tables.';\n",
              "          element.innerHTML = '';\n",
              "          dataTable['output_type'] = 'display_data';\n",
              "          await google.colab.output.renderOutput(dataTable, element);\n",
              "          const docLink = document.createElement('div');\n",
              "          docLink.innerHTML = docLinkHtml;\n",
              "          element.appendChild(docLink);\n",
              "        }\n",
              "      </script>\n",
              "    </div>\n",
              "  </div>\n",
              "  "
            ]
          },
          "metadata": {},
          "execution_count": 22
        }
      ]
    },
    {
      "cell_type": "code",
      "source": [
        "df_rain[df_rain['precipitation'].isna() == True]"
      ],
      "metadata": {
        "colab": {
          "base_uri": "https://localhost:8080/",
          "height": 49
        },
        "id": "SHxVF2Tc5Xut",
        "outputId": "50ac282c-fdd9-40c7-b043-30fa1d540dc2"
      },
      "execution_count": 3,
      "outputs": [
        {
          "output_type": "execute_result",
          "data": {
            "text/plain": [
              "Empty DataFrame\n",
              "Columns: [date, city, precipitation, day_of_year, month]\n",
              "Index: []"
            ],
            "text/html": [
              "\n",
              "  <div id=\"df-847f6d24-375e-4707-a5d3-83391d8a34f6\">\n",
              "    <div class=\"colab-df-container\">\n",
              "      <div>\n",
              "<style scoped>\n",
              "    .dataframe tbody tr th:only-of-type {\n",
              "        vertical-align: middle;\n",
              "    }\n",
              "\n",
              "    .dataframe tbody tr th {\n",
              "        vertical-align: top;\n",
              "    }\n",
              "\n",
              "    .dataframe thead th {\n",
              "        text-align: right;\n",
              "    }\n",
              "</style>\n",
              "<table border=\"1\" class=\"dataframe\">\n",
              "  <thead>\n",
              "    <tr style=\"text-align: right;\">\n",
              "      <th></th>\n",
              "      <th>date</th>\n",
              "      <th>city</th>\n",
              "      <th>precipitation</th>\n",
              "      <th>day_of_year</th>\n",
              "      <th>month</th>\n",
              "    </tr>\n",
              "  </thead>\n",
              "  <tbody>\n",
              "  </tbody>\n",
              "</table>\n",
              "</div>\n",
              "      <button class=\"colab-df-convert\" onclick=\"convertToInteractive('df-847f6d24-375e-4707-a5d3-83391d8a34f6')\"\n",
              "              title=\"Convert this dataframe to an interactive table.\"\n",
              "              style=\"display:none;\">\n",
              "        \n",
              "  <svg xmlns=\"http://www.w3.org/2000/svg\" height=\"24px\"viewBox=\"0 0 24 24\"\n",
              "       width=\"24px\">\n",
              "    <path d=\"M0 0h24v24H0V0z\" fill=\"none\"/>\n",
              "    <path d=\"M18.56 5.44l.94 2.06.94-2.06 2.06-.94-2.06-.94-.94-2.06-.94 2.06-2.06.94zm-11 1L8.5 8.5l.94-2.06 2.06-.94-2.06-.94L8.5 2.5l-.94 2.06-2.06.94zm10 10l.94 2.06.94-2.06 2.06-.94-2.06-.94-.94-2.06-.94 2.06-2.06.94z\"/><path d=\"M17.41 7.96l-1.37-1.37c-.4-.4-.92-.59-1.43-.59-.52 0-1.04.2-1.43.59L10.3 9.45l-7.72 7.72c-.78.78-.78 2.05 0 2.83L4 21.41c.39.39.9.59 1.41.59.51 0 1.02-.2 1.41-.59l7.78-7.78 2.81-2.81c.8-.78.8-2.07 0-2.86zM5.41 20L4 18.59l7.72-7.72 1.47 1.35L5.41 20z\"/>\n",
              "  </svg>\n",
              "      </button>\n",
              "      \n",
              "  <style>\n",
              "    .colab-df-container {\n",
              "      display:flex;\n",
              "      flex-wrap:wrap;\n",
              "      gap: 12px;\n",
              "    }\n",
              "\n",
              "    .colab-df-convert {\n",
              "      background-color: #E8F0FE;\n",
              "      border: none;\n",
              "      border-radius: 50%;\n",
              "      cursor: pointer;\n",
              "      display: none;\n",
              "      fill: #1967D2;\n",
              "      height: 32px;\n",
              "      padding: 0 0 0 0;\n",
              "      width: 32px;\n",
              "    }\n",
              "\n",
              "    .colab-df-convert:hover {\n",
              "      background-color: #E2EBFA;\n",
              "      box-shadow: 0px 1px 2px rgba(60, 64, 67, 0.3), 0px 1px 3px 1px rgba(60, 64, 67, 0.15);\n",
              "      fill: #174EA6;\n",
              "    }\n",
              "\n",
              "    [theme=dark] .colab-df-convert {\n",
              "      background-color: #3B4455;\n",
              "      fill: #D2E3FC;\n",
              "    }\n",
              "\n",
              "    [theme=dark] .colab-df-convert:hover {\n",
              "      background-color: #434B5C;\n",
              "      box-shadow: 0px 1px 3px 1px rgba(0, 0, 0, 0.15);\n",
              "      filter: drop-shadow(0px 1px 2px rgba(0, 0, 0, 0.3));\n",
              "      fill: #FFFFFF;\n",
              "    }\n",
              "  </style>\n",
              "\n",
              "      <script>\n",
              "        const buttonEl =\n",
              "          document.querySelector('#df-847f6d24-375e-4707-a5d3-83391d8a34f6 button.colab-df-convert');\n",
              "        buttonEl.style.display =\n",
              "          google.colab.kernel.accessAllowed ? 'block' : 'none';\n",
              "\n",
              "        async function convertToInteractive(key) {\n",
              "          const element = document.querySelector('#df-847f6d24-375e-4707-a5d3-83391d8a34f6');\n",
              "          const dataTable =\n",
              "            await google.colab.kernel.invokeFunction('convertToInteractive',\n",
              "                                                     [key], {});\n",
              "          if (!dataTable) return;\n",
              "\n",
              "          const docLinkHtml = 'Like what you see? Visit the ' +\n",
              "            '<a target=\"_blank\" href=https://colab.research.google.com/notebooks/data_table.ipynb>data table notebook</a>'\n",
              "            + ' to learn more about interactive tables.';\n",
              "          element.innerHTML = '';\n",
              "          dataTable['output_type'] = 'display_data';\n",
              "          await google.colab.output.renderOutput(dataTable, element);\n",
              "          const docLink = document.createElement('div');\n",
              "          docLink.innerHTML = docLinkHtml;\n",
              "          element.appendChild(docLink);\n",
              "        }\n",
              "      </script>\n",
              "    </div>\n",
              "  </div>\n",
              "  "
            ]
          },
          "metadata": {},
          "execution_count": 3
        }
      ]
    },
    {
      "cell_type": "markdown",
      "source": [
        "there are no missing values in the dataset, and the dataframe has been limited to date, city, precipitation, day of year, and month, so we are good to go!"
      ],
      "metadata": {
        "id": "XCqD39vF5kX8"
      }
    },
    {
      "cell_type": "markdown",
      "source": [
        "## State your questions"
      ],
      "metadata": {
        "id": "bObnX61C95DL"
      }
    },
    {
      "cell_type": "markdown",
      "source": [
        "The overall problem is to compare how much it rains in Seattle and St. Louis. To answer this general problem, you will need to ask specific questions about the data.\n"
      ],
      "metadata": {
        "id": "RnmjIKMJ99dJ"
      }
    },
    {
      "cell_type": "markdown",
      "source": [
        "##### $\\rightarrow$ List your questions about the data that will help you solve the problem."
      ],
      "metadata": {
        "id": "h8NWZuty-NJJ"
      }
    },
    {
      "cell_type": "markdown",
      "source": [
        "How many days over the 5 years did each city record no rainfall?\n",
        "\n",
        "How many days over the 5 years did each city record at least 1.5 inches of rain?\n",
        "\n",
        "What was the average monthly recorded rainfall for each city?"
      ],
      "metadata": {
        "id": "umCc_gIz5zXC"
      }
    },
    {
      "cell_type": "markdown",
      "source": [
        "## Analysis"
      ],
      "metadata": {
        "id": "bkTA97Z7QgpH"
      }
    },
    {
      "cell_type": "markdown",
      "source": [
        "### Days with No Rain"
      ],
      "metadata": {
        "id": "8R8PJmGqK1__"
      }
    },
    {
      "cell_type": "markdown",
      "source": [
        "Create a dataframe that consists of a subset of the combined data, displaying only the days from each city where no rainfall was recorded, over the 5 years."
      ],
      "metadata": {
        "id": "nbumhtt4A2CS"
      }
    },
    {
      "cell_type": "code",
      "source": [
        "df_no_rain = df_rain.loc[df_rain['precipitation'] == 0.0, ['month', 'day_of_year', 'city', 'precipitation']]\n",
        "\n",
        "df_no_rain"
      ],
      "metadata": {
        "id": "bp-S6mmRQhnh",
        "colab": {
          "base_uri": "https://localhost:8080/",
          "height": 424
        },
        "outputId": "3e4c12bf-1072-40e9-fbc1-aff00b14ec28"
      },
      "execution_count": 4,
      "outputs": [
        {
          "output_type": "execute_result",
          "data": {
            "text/plain": [
              "      month  day_of_year city  precipitation\n",
              "0         1            1  STL            0.0\n",
              "1         1            2  STL            0.0\n",
              "2         1            3  STL            0.0\n",
              "3         1            4  STL            0.0\n",
              "4         1            5  STL            0.0\n",
              "...     ...          ...  ...            ...\n",
              "3614     11          328  SEA            0.0\n",
              "3622     12          336  SEA            0.0\n",
              "3624     12          338  SEA            0.0\n",
              "3635     12          349  SEA            0.0\n",
              "3636     12          350  SEA            0.0\n",
              "\n",
              "[2055 rows x 4 columns]"
            ],
            "text/html": [
              "\n",
              "  <div id=\"df-49f0da30-7039-4ec7-b642-cc7e6ed4240b\">\n",
              "    <div class=\"colab-df-container\">\n",
              "      <div>\n",
              "<style scoped>\n",
              "    .dataframe tbody tr th:only-of-type {\n",
              "        vertical-align: middle;\n",
              "    }\n",
              "\n",
              "    .dataframe tbody tr th {\n",
              "        vertical-align: top;\n",
              "    }\n",
              "\n",
              "    .dataframe thead th {\n",
              "        text-align: right;\n",
              "    }\n",
              "</style>\n",
              "<table border=\"1\" class=\"dataframe\">\n",
              "  <thead>\n",
              "    <tr style=\"text-align: right;\">\n",
              "      <th></th>\n",
              "      <th>month</th>\n",
              "      <th>day_of_year</th>\n",
              "      <th>city</th>\n",
              "      <th>precipitation</th>\n",
              "    </tr>\n",
              "  </thead>\n",
              "  <tbody>\n",
              "    <tr>\n",
              "      <th>0</th>\n",
              "      <td>1</td>\n",
              "      <td>1</td>\n",
              "      <td>STL</td>\n",
              "      <td>0.0</td>\n",
              "    </tr>\n",
              "    <tr>\n",
              "      <th>1</th>\n",
              "      <td>1</td>\n",
              "      <td>2</td>\n",
              "      <td>STL</td>\n",
              "      <td>0.0</td>\n",
              "    </tr>\n",
              "    <tr>\n",
              "      <th>2</th>\n",
              "      <td>1</td>\n",
              "      <td>3</td>\n",
              "      <td>STL</td>\n",
              "      <td>0.0</td>\n",
              "    </tr>\n",
              "    <tr>\n",
              "      <th>3</th>\n",
              "      <td>1</td>\n",
              "      <td>4</td>\n",
              "      <td>STL</td>\n",
              "      <td>0.0</td>\n",
              "    </tr>\n",
              "    <tr>\n",
              "      <th>4</th>\n",
              "      <td>1</td>\n",
              "      <td>5</td>\n",
              "      <td>STL</td>\n",
              "      <td>0.0</td>\n",
              "    </tr>\n",
              "    <tr>\n",
              "      <th>...</th>\n",
              "      <td>...</td>\n",
              "      <td>...</td>\n",
              "      <td>...</td>\n",
              "      <td>...</td>\n",
              "    </tr>\n",
              "    <tr>\n",
              "      <th>3614</th>\n",
              "      <td>11</td>\n",
              "      <td>328</td>\n",
              "      <td>SEA</td>\n",
              "      <td>0.0</td>\n",
              "    </tr>\n",
              "    <tr>\n",
              "      <th>3622</th>\n",
              "      <td>12</td>\n",
              "      <td>336</td>\n",
              "      <td>SEA</td>\n",
              "      <td>0.0</td>\n",
              "    </tr>\n",
              "    <tr>\n",
              "      <th>3624</th>\n",
              "      <td>12</td>\n",
              "      <td>338</td>\n",
              "      <td>SEA</td>\n",
              "      <td>0.0</td>\n",
              "    </tr>\n",
              "    <tr>\n",
              "      <th>3635</th>\n",
              "      <td>12</td>\n",
              "      <td>349</td>\n",
              "      <td>SEA</td>\n",
              "      <td>0.0</td>\n",
              "    </tr>\n",
              "    <tr>\n",
              "      <th>3636</th>\n",
              "      <td>12</td>\n",
              "      <td>350</td>\n",
              "      <td>SEA</td>\n",
              "      <td>0.0</td>\n",
              "    </tr>\n",
              "  </tbody>\n",
              "</table>\n",
              "<p>2055 rows × 4 columns</p>\n",
              "</div>\n",
              "      <button class=\"colab-df-convert\" onclick=\"convertToInteractive('df-49f0da30-7039-4ec7-b642-cc7e6ed4240b')\"\n",
              "              title=\"Convert this dataframe to an interactive table.\"\n",
              "              style=\"display:none;\">\n",
              "        \n",
              "  <svg xmlns=\"http://www.w3.org/2000/svg\" height=\"24px\"viewBox=\"0 0 24 24\"\n",
              "       width=\"24px\">\n",
              "    <path d=\"M0 0h24v24H0V0z\" fill=\"none\"/>\n",
              "    <path d=\"M18.56 5.44l.94 2.06.94-2.06 2.06-.94-2.06-.94-.94-2.06-.94 2.06-2.06.94zm-11 1L8.5 8.5l.94-2.06 2.06-.94-2.06-.94L8.5 2.5l-.94 2.06-2.06.94zm10 10l.94 2.06.94-2.06 2.06-.94-2.06-.94-.94-2.06-.94 2.06-2.06.94z\"/><path d=\"M17.41 7.96l-1.37-1.37c-.4-.4-.92-.59-1.43-.59-.52 0-1.04.2-1.43.59L10.3 9.45l-7.72 7.72c-.78.78-.78 2.05 0 2.83L4 21.41c.39.39.9.59 1.41.59.51 0 1.02-.2 1.41-.59l7.78-7.78 2.81-2.81c.8-.78.8-2.07 0-2.86zM5.41 20L4 18.59l7.72-7.72 1.47 1.35L5.41 20z\"/>\n",
              "  </svg>\n",
              "      </button>\n",
              "      \n",
              "  <style>\n",
              "    .colab-df-container {\n",
              "      display:flex;\n",
              "      flex-wrap:wrap;\n",
              "      gap: 12px;\n",
              "    }\n",
              "\n",
              "    .colab-df-convert {\n",
              "      background-color: #E8F0FE;\n",
              "      border: none;\n",
              "      border-radius: 50%;\n",
              "      cursor: pointer;\n",
              "      display: none;\n",
              "      fill: #1967D2;\n",
              "      height: 32px;\n",
              "      padding: 0 0 0 0;\n",
              "      width: 32px;\n",
              "    }\n",
              "\n",
              "    .colab-df-convert:hover {\n",
              "      background-color: #E2EBFA;\n",
              "      box-shadow: 0px 1px 2px rgba(60, 64, 67, 0.3), 0px 1px 3px 1px rgba(60, 64, 67, 0.15);\n",
              "      fill: #174EA6;\n",
              "    }\n",
              "\n",
              "    [theme=dark] .colab-df-convert {\n",
              "      background-color: #3B4455;\n",
              "      fill: #D2E3FC;\n",
              "    }\n",
              "\n",
              "    [theme=dark] .colab-df-convert:hover {\n",
              "      background-color: #434B5C;\n",
              "      box-shadow: 0px 1px 3px 1px rgba(0, 0, 0, 0.15);\n",
              "      filter: drop-shadow(0px 1px 2px rgba(0, 0, 0, 0.3));\n",
              "      fill: #FFFFFF;\n",
              "    }\n",
              "  </style>\n",
              "\n",
              "      <script>\n",
              "        const buttonEl =\n",
              "          document.querySelector('#df-49f0da30-7039-4ec7-b642-cc7e6ed4240b button.colab-df-convert');\n",
              "        buttonEl.style.display =\n",
              "          google.colab.kernel.accessAllowed ? 'block' : 'none';\n",
              "\n",
              "        async function convertToInteractive(key) {\n",
              "          const element = document.querySelector('#df-49f0da30-7039-4ec7-b642-cc7e6ed4240b');\n",
              "          const dataTable =\n",
              "            await google.colab.kernel.invokeFunction('convertToInteractive',\n",
              "                                                     [key], {});\n",
              "          if (!dataTable) return;\n",
              "\n",
              "          const docLinkHtml = 'Like what you see? Visit the ' +\n",
              "            '<a target=\"_blank\" href=https://colab.research.google.com/notebooks/data_table.ipynb>data table notebook</a>'\n",
              "            + ' to learn more about interactive tables.';\n",
              "          element.innerHTML = '';\n",
              "          dataTable['output_type'] = 'display_data';\n",
              "          await google.colab.output.renderOutput(dataTable, element);\n",
              "          const docLink = document.createElement('div');\n",
              "          docLink.innerHTML = docLinkHtml;\n",
              "          element.appendChild(docLink);\n",
              "        }\n",
              "      </script>\n",
              "    </div>\n",
              "  </div>\n",
              "  "
            ]
          },
          "metadata": {},
          "execution_count": 4
        }
      ]
    },
    {
      "cell_type": "markdown",
      "source": [
        "Now this data is ready to be plotted as a bar graph."
      ],
      "metadata": {
        "id": "mtDKoplcBCSo"
      }
    },
    {
      "cell_type": "markdown",
      "source": [
        "We will generate a barplot using .value_counts() so that the y-axis displays the number of days recorded without rain (by counting the number of observations that appear in the no_rain dataframe)"
      ],
      "metadata": {
        "id": "VHfn5sqIBFMZ"
      }
    },
    {
      "cell_type": "code",
      "source": [
        "df_no_rain['city'].value_counts().plot(kind = 'bar', ylabel = 'Number of Days', xlabel = 'City', title = 'Days with No Rain')"
      ],
      "metadata": {
        "colab": {
          "base_uri": "https://localhost:8080/",
          "height": 512
        },
        "id": "HI9xhFNwBYSu",
        "outputId": "31ef9395-56b4-4e11-811b-7d3e8039b685"
      },
      "execution_count": 5,
      "outputs": [
        {
          "output_type": "execute_result",
          "data": {
            "text/plain": [
              "<Axes: title={'center': 'Days with No Rain'}, xlabel='City', ylabel='Number of Days'>"
            ]
          },
          "metadata": {},
          "execution_count": 5
        },
        {
          "output_type": "display_data",
          "data": {
            "text/plain": [
              "<Figure size 640x480 with 1 Axes>"
            ],
            "image/png": "[encoded data removed]"
          },
          "metadata": {}
        }
      ]
    },
    {
      "cell_type": "markdown",
      "source": [
        "Overall, St. Louis (STL) has more days recorded without rain, and Seattle (SEA) has less days without rain."
      ],
      "metadata": {
        "id": "a8-k9_SoBb9x"
      }
    },
    {
      "cell_type": "markdown",
      "source": [
        "### Days with Some (at least 1.5in) of Rain"
      ],
      "metadata": {
        "id": "zRglXkr3K-cN"
      }
    },
    {
      "cell_type": "markdown",
      "source": [
        "Now, we create a dataframe  that consists of a subset of the combined data, displaying only the days from each city where at least 1.5 inches of rainfall was recorded, over the 5 years."
      ],
      "metadata": {
        "id": "a2SuN8zwBkX7"
      }
    },
    {
      "cell_type": "code",
      "source": [
        "df_some_rain = df_rain.loc[df_rain['precipitation'] >= 1.5, ['day_of_year', 'city', 'precipitation']]\n",
        "\n",
        "df_some_rain"
      ],
      "metadata": {
        "colab": {
          "base_uri": "https://localhost:8080/",
          "height": 1000
        },
        "id": "sJjfjzT-Bv3q",
        "outputId": "7cc115a8-1b41-4ca2-9c6c-756dbe0857d5"
      },
      "execution_count": 6,
      "outputs": [
        {
          "output_type": "execute_result",
          "data": {
            "text/plain": [
              "      day_of_year city  precipitation\n",
              "54             55  STL           1.73\n",
              "137           138  STL           1.61\n",
              "453            89  STL           1.65\n",
              "472           108  STL           1.58\n",
              "484           120  STL           2.36\n",
              "505           141  STL           1.79\n",
              "567           203  STL           3.30\n",
              "588           224  STL           2.68\n",
              "698           334  STL           1.50\n",
              "739            10  STL           2.16\n",
              "848           119  STL           1.55\n",
              "940           211  STL           1.77\n",
              "941           212  STL           2.34\n",
              "950           221  STL           1.79\n",
              "951           222  STL           2.03\n",
              "1172           77  STL           2.04\n",
              "1271          176  STL           2.62\n",
              "1274          179  STL           1.59\n",
              "1285          190  STL           2.02\n",
              "1359          264  STL           1.70\n",
              "1525           65  STL           1.65\n",
              "1549           89  STL           1.84\n",
              "1585          125  STL           1.50\n",
              "1601          141  STL           1.59\n",
              "1667          207  STL           8.64\n",
              "1675          215  STL           4.32\n",
              "1758          298  STL           2.31\n",
              "1930          105  SEA           1.65\n",
              "2156          331  SEA           1.56\n",
              "2544          354  SEA           1.90\n",
              "2545          355  SEA           2.60\n",
              "2912          357  SEA           2.42\n",
              "2924            3  SEA           1.60\n",
              "2933           12  SEA           1.72\n",
              "3223          302  SEA           2.00\n",
              "3289            3  SEA           1.97\n",
              "3293            7  SEA           1.72\n",
              "3345           59  SEA           1.89"
            ],
            "text/html": [
              "\n",
              "  <div id=\"df-14e65a11-5503-4316-a352-9fa88035e5fc\">\n",
              "    <div class=\"colab-df-container\">\n",
              "      <div>\n",
              "<style scoped>\n",
              "    .dataframe tbody tr th:only-of-type {\n",
              "        vertical-align: middle;\n",
              "    }\n",
              "\n",
              "    .dataframe tbody tr th {\n",
              "        vertical-align: top;\n",
              "    }\n",
              "\n",
              "    .dataframe thead th {\n",
              "        text-align: right;\n",
              "    }\n",
              "</style>\n",
              "<table border=\"1\" class=\"dataframe\">\n",
              "  <thead>\n",
              "    <tr style=\"text-align: right;\">\n",
              "      <th></th>\n",
              "      <th>day_of_year</th>\n",
              "      <th>city</th>\n",
              "      <th>precipitation</th>\n",
              "    </tr>\n",
              "  </thead>\n",
              "  <tbody>\n",
              "    <tr>\n",
              "      <th>54</th>\n",
              "      <td>55</td>\n",
              "      <td>STL</td>\n",
              "      <td>1.73</td>\n",
              "    </tr>\n",
              "    <tr>\n",
              "      <th>137</th>\n",
              "      <td>138</td>\n",
              "      <td>STL</td>\n",
              "      <td>1.61</td>\n",
              "    </tr>\n",
              "    <tr>\n",
              "      <th>453</th>\n",
              "      <td>89</td>\n",
              "      <td>STL</td>\n",
              "      <td>1.65</td>\n",
              "    </tr>\n",
              "    <tr>\n",
              "      <th>472</th>\n",
              "      <td>108</td>\n",
              "      <td>STL</td>\n",
              "      <td>1.58</td>\n",
              "    </tr>\n",
              "    <tr>\n",
              "      <th>484</th>\n",
              "      <td>120</td>\n",
              "      <td>STL</td>\n",
              "      <td>2.36</td>\n",
              "    </tr>\n",
              "    <tr>\n",
              "      <th>505</th>\n",
              "      <td>141</td>\n",
              "      <td>STL</td>\n",
              "      <td>1.79</td>\n",
              "    </tr>\n",
              "    <tr>\n",
              "      <th>567</th>\n",
              "      <td>203</td>\n",
              "      <td>STL</td>\n",
              "      <td>3.30</td>\n",
              "    </tr>\n",
              "    <tr>\n",
              "      <th>588</th>\n",
              "      <td>224</td>\n",
              "      <td>STL</td>\n",
              "      <td>2.68</td>\n",
              "    </tr>\n",
              "    <tr>\n",
              "      <th>698</th>\n",
              "      <td>334</td>\n",
              "      <td>STL</td>\n",
              "      <td>1.50</td>\n",
              "    </tr>\n",
              "    <tr>\n",
              "      <th>739</th>\n",
              "      <td>10</td>\n",
              "      <td>STL</td>\n",
              "      <td>2.16</td>\n",
              "    </tr>\n",
              "    <tr>\n",
              "      <th>848</th>\n",
              "      <td>119</td>\n",
              "      <td>STL</td>\n",
              "      <td>1.55</td>\n",
              "    </tr>\n",
              "    <tr>\n",
              "      <th>940</th>\n",
              "      <td>211</td>\n",
              "      <td>STL</td>\n",
              "      <td>1.77</td>\n",
              "    </tr>\n",
              "    <tr>\n",
              "      <th>941</th>\n",
              "      <td>212</td>\n",
              "      <td>STL</td>\n",
              "      <td>2.34</td>\n",
              "    </tr>\n",
              "    <tr>\n",
              "      <th>950</th>\n",
              "      <td>221</td>\n",
              "      <td>STL</td>\n",
              "      <td>1.79</td>\n",
              "    </tr>\n",
              "    <tr>\n",
              "      <th>951</th>\n",
              "      <td>222</td>\n",
              "      <td>STL</td>\n",
              "      <td>2.03</td>\n",
              "    </tr>\n",
              "    <tr>\n",
              "      <th>1172</th>\n",
              "      <td>77</td>\n",
              "      <td>STL</td>\n",
              "      <td>2.04</td>\n",
              "    </tr>\n",
              "    <tr>\n",
              "      <th>1271</th>\n",
              "      <td>176</td>\n",
              "      <td>STL</td>\n",
              "      <td>2.62</td>\n",
              "    </tr>\n",
              "    <tr>\n",
              "      <th>1274</th>\n",
              "      <td>179</td>\n",
              "      <td>STL</td>\n",
              "      <td>1.59</td>\n",
              "    </tr>\n",
              "    <tr>\n",
              "      <th>1285</th>\n",
              "      <td>190</td>\n",
              "      <td>STL</td>\n",
              "      <td>2.02</td>\n",
              "    </tr>\n",
              "    <tr>\n",
              "      <th>1359</th>\n",
              "      <td>264</td>\n",
              "      <td>STL</td>\n",
              "      <td>1.70</td>\n",
              "    </tr>\n",
              "    <tr>\n",
              "      <th>1525</th>\n",
              "      <td>65</td>\n",
              "      <td>STL</td>\n",
              "      <td>1.65</td>\n",
              "    </tr>\n",
              "    <tr>\n",
              "      <th>1549</th>\n",
              "      <td>89</td>\n",
              "      <td>STL</td>\n",
              "      <td>1.84</td>\n",
              "    </tr>\n",
              "    <tr>\n",
              "      <th>1585</th>\n",
              "      <td>125</td>\n",
              "      <td>STL</td>\n",
              "      <td>1.50</td>\n",
              "    </tr>\n",
              "    <tr>\n",
              "      <th>1601</th>\n",
              "      <td>141</td>\n",
              "      <td>STL</td>\n",
              "      <td>1.59</td>\n",
              "    </tr>\n",
              "    <tr>\n",
              "      <th>1667</th>\n",
              "      <td>207</td>\n",
              "      <td>STL</td>\n",
              "      <td>8.64</td>\n",
              "    </tr>\n",
              "    <tr>\n",
              "      <th>1675</th>\n",
              "      <td>215</td>\n",
              "      <td>STL</td>\n",
              "      <td>4.32</td>\n",
              "    </tr>\n",
              "    <tr>\n",
              "      <th>1758</th>\n",
              "      <td>298</td>\n",
              "      <td>STL</td>\n",
              "      <td>2.31</td>\n",
              "    </tr>\n",
              "    <tr>\n",
              "      <th>1930</th>\n",
              "      <td>105</td>\n",
              "      <td>SEA</td>\n",
              "      <td>1.65</td>\n",
              "    </tr>\n",
              "    <tr>\n",
              "      <th>2156</th>\n",
              "      <td>331</td>\n",
              "      <td>SEA</td>\n",
              "      <td>1.56</td>\n",
              "    </tr>\n",
              "    <tr>\n",
              "      <th>2544</th>\n",
              "      <td>354</td>\n",
              "      <td>SEA</td>\n",
              "      <td>1.90</td>\n",
              "    </tr>\n",
              "    <tr>\n",
              "      <th>2545</th>\n",
              "      <td>355</td>\n",
              "      <td>SEA</td>\n",
              "      <td>2.60</td>\n",
              "    </tr>\n",
              "    <tr>\n",
              "      <th>2912</th>\n",
              "      <td>357</td>\n",
              "      <td>SEA</td>\n",
              "      <td>2.42</td>\n",
              "    </tr>\n",
              "    <tr>\n",
              "      <th>2924</th>\n",
              "      <td>3</td>\n",
              "      <td>SEA</td>\n",
              "      <td>1.60</td>\n",
              "    </tr>\n",
              "    <tr>\n",
              "      <th>2933</th>\n",
              "      <td>12</td>\n",
              "      <td>SEA</td>\n",
              "      <td>1.72</td>\n",
              "    </tr>\n",
              "    <tr>\n",
              "      <th>3223</th>\n",
              "      <td>302</td>\n",
              "      <td>SEA</td>\n",
              "      <td>2.00</td>\n",
              "    </tr>\n",
              "    <tr>\n",
              "      <th>3289</th>\n",
              "      <td>3</td>\n",
              "      <td>SEA</td>\n",
              "      <td>1.97</td>\n",
              "    </tr>\n",
              "    <tr>\n",
              "      <th>3293</th>\n",
              "      <td>7</td>\n",
              "      <td>SEA</td>\n",
              "      <td>1.72</td>\n",
              "    </tr>\n",
              "    <tr>\n",
              "      <th>3345</th>\n",
              "      <td>59</td>\n",
              "      <td>SEA</td>\n",
              "      <td>1.89</td>\n",
              "    </tr>\n",
              "  </tbody>\n",
              "</table>\n",
              "</div>\n",
              "      <button class=\"colab-df-convert\" onclick=\"convertToInteractive('df-14e65a11-5503-4316-a352-9fa88035e5fc')\"\n",
              "              title=\"Convert this dataframe to an interactive table.\"\n",
              "              style=\"display:none;\">\n",
              "        \n",
              "  <svg xmlns=\"http://www.w3.org/2000/svg\" height=\"24px\"viewBox=\"0 0 24 24\"\n",
              "       width=\"24px\">\n",
              "    <path d=\"M0 0h24v24H0V0z\" fill=\"none\"/>\n",
              "    <path d=\"M18.56 5.44l.94 2.06.94-2.06 2.06-.94-2.06-.94-.94-2.06-.94 2.06-2.06.94zm-11 1L8.5 8.5l.94-2.06 2.06-.94-2.06-.94L8.5 2.5l-.94 2.06-2.06.94zm10 10l.94 2.06.94-2.06 2.06-.94-2.06-.94-.94-2.06-.94 2.06-2.06.94z\"/><path d=\"M17.41 7.96l-1.37-1.37c-.4-.4-.92-.59-1.43-.59-.52 0-1.04.2-1.43.59L10.3 9.45l-7.72 7.72c-.78.78-.78 2.05 0 2.83L4 21.41c.39.39.9.59 1.41.59.51 0 1.02-.2 1.41-.59l7.78-7.78 2.81-2.81c.8-.78.8-2.07 0-2.86zM5.41 20L4 18.59l7.72-7.72 1.47 1.35L5.41 20z\"/>\n",
              "  </svg>\n",
              "      </button>\n",
              "      \n",
              "  <style>\n",
              "    .colab-df-container {\n",
              "      display:flex;\n",
              "      flex-wrap:wrap;\n",
              "      gap: 12px;\n",
              "    }\n",
              "\n",
              "    .colab-df-convert {\n",
              "      background-color: #E8F0FE;\n",
              "      border: none;\n",
              "      border-radius: 50%;\n",
              "      cursor: pointer;\n",
              "      display: none;\n",
              "      fill: #1967D2;\n",
              "      height: 32px;\n",
              "      padding: 0 0 0 0;\n",
              "      width: 32px;\n",
              "    }\n",
              "\n",
              "    .colab-df-convert:hover {\n",
              "      background-color: #E2EBFA;\n",
              "      box-shadow: 0px 1px 2px rgba(60, 64, 67, 0.3), 0px 1px 3px 1px rgba(60, 64, 67, 0.15);\n",
              "      fill: #174EA6;\n",
              "    }\n",
              "\n",
              "    [theme=dark] .colab-df-convert {\n",
              "      background-color: #3B4455;\n",
              "      fill: #D2E3FC;\n",
              "    }\n",
              "\n",
              "    [theme=dark] .colab-df-convert:hover {\n",
              "      background-color: #434B5C;\n",
              "      box-shadow: 0px 1px 3px 1px rgba(0, 0, 0, 0.15);\n",
              "      filter: drop-shadow(0px 1px 2px rgba(0, 0, 0, 0.3));\n",
              "      fill: #FFFFFF;\n",
              "    }\n",
              "  </style>\n",
              "\n",
              "      <script>\n",
              "        const buttonEl =\n",
              "          document.querySelector('#df-14e65a11-5503-4316-a352-9fa88035e5fc button.colab-df-convert');\n",
              "        buttonEl.style.display =\n",
              "          google.colab.kernel.accessAllowed ? 'block' : 'none';\n",
              "\n",
              "        async function convertToInteractive(key) {\n",
              "          const element = document.querySelector('#df-14e65a11-5503-4316-a352-9fa88035e5fc');\n",
              "          const dataTable =\n",
              "            await google.colab.kernel.invokeFunction('convertToInteractive',\n",
              "                                                     [key], {});\n",
              "          if (!dataTable) return;\n",
              "\n",
              "          const docLinkHtml = 'Like what you see? Visit the ' +\n",
              "            '<a target=\"_blank\" href=https://colab.research.google.com/notebooks/data_table.ipynb>data table notebook</a>'\n",
              "            + ' to learn more about interactive tables.';\n",
              "          element.innerHTML = '';\n",
              "          dataTable['output_type'] = 'display_data';\n",
              "          await google.colab.output.renderOutput(dataTable, element);\n",
              "          const docLink = document.createElement('div');\n",
              "          docLink.innerHTML = docLinkHtml;\n",
              "          element.appendChild(docLink);\n",
              "        }\n",
              "      </script>\n",
              "    </div>\n",
              "  </div>\n",
              "  "
            ]
          },
          "metadata": {},
          "execution_count": 6
        }
      ]
    },
    {
      "cell_type": "markdown",
      "source": [
        "Now this data is ready to be plotted as a bar graph."
      ],
      "metadata": {
        "id": "0tckVS_EByim"
      }
    },
    {
      "cell_type": "markdown",
      "source": [
        "We will generate a barplot using .value_counts() so that the y-axis displays the number of days with at least 1.5 inches of rain recorded (by counting the number of observations that appear in the some_rain dataframe, just like we did with no_rain)"
      ],
      "metadata": {
        "id": "pi6owLVNB9Or"
      }
    },
    {
      "cell_type": "code",
      "source": [
        "df_some_rain['city'].value_counts().plot(kind = 'bar', ylabel = 'Number of Days', xlabel = 'City', title = 'Days with 1.5 or more Inches of Rain')"
      ],
      "metadata": {
        "colab": {
          "base_uri": "https://localhost:8080/",
          "height": 512
        },
        "id": "5EdSu9R1CJwh",
        "outputId": "4d83b2bb-2230-444a-aead-6e91323a0609"
      },
      "execution_count": 7,
      "outputs": [
        {
          "output_type": "execute_result",
          "data": {
            "text/plain": [
              "<Axes: title={'center': 'Days with 1.5 or more Inches of Rain'}, xlabel='City', ylabel='Number of Days'>"
            ]
          },
          "metadata": {},
          "execution_count": 7
        },
        {
          "output_type": "display_data",
          "data": {
            "text/plain": [
              "<Figure size 640x480 with 1 Axes>"
            ],
            "image/png": "[encoded data removed]"
          },
          "metadata": {}
        }
      ]
    },
    {
      "cell_type": "markdown",
      "source": [
        "St. Louis (STL) appears to have more days where at least 1.5 inches of rainfall were recorded, while Seattle (SEA) has less than half the number of days with a minimum of 1.5 inches of rainfall."
      ],
      "metadata": {
        "id": "E120Aq1-CQzT"
      }
    },
    {
      "cell_type": "markdown",
      "source": [
        "### Average Monthly Rainfall"
      ],
      "metadata": {
        "id": "rWse4SADLHlk"
      }
    },
    {
      "cell_type": "markdown",
      "source": [
        "Now we create a dataframe that groups the rainfall data by city and month (we created the 'month' variable for the cleaned dataframe). This dataframe will display the average rainfall for each city by month."
      ],
      "metadata": {
        "id": "Eko9FqY8Chf-"
      }
    },
    {
      "cell_type": "code",
      "source": [
        "city_month = df_rain.groupby(['city', 'month'])\n",
        "\n",
        "monthly_avg_prcp = city_month['precipitation'].mean().reset_index(name = 'avg_prcp')\n",
        "\n",
        "\n",
        "monthly_avg_prcp"
      ],
      "metadata": {
        "colab": {
          "base_uri": "https://localhost:8080/",
          "height": 802
        },
        "id": "uAmJnPvbC3QY",
        "outputId": "464d140e-43af-4681-8579-fc6d9c0b368c"
      },
      "execution_count": 23,
      "outputs": [
        {
          "output_type": "execute_result",
          "data": {
            "text/plain": [
              "   city  month  avg_prcp\n",
              "0   SEA      1  0.230742\n",
              "1   SEA      2  0.176472\n",
              "2   SEA      3  0.089075\n",
              "3   SEA      4  0.100483\n",
              "4   SEA      5  0.069161\n",
              "5   SEA      6  0.063167\n",
              "6   SEA      7  0.013984\n",
              "7   SEA      8  0.019995\n",
              "8   SEA      9  0.055622\n",
              "9   SEA     10  0.118452\n",
              "10  SEA     11  0.201867\n",
              "11  SEA     12  0.224903\n",
              "12  STL      1  0.102065\n",
              "13  STL      2  0.118298\n",
              "14  STL      3  0.171355\n",
              "15  STL      4  0.143733\n",
              "16  STL      5  0.174839\n",
              "17  STL      6  0.117200\n",
              "18  STL      7  0.225419\n",
              "19  STL      8  0.169871\n",
              "20  STL      9  0.062333\n",
              "21  STL     10  0.109677\n",
              "22  STL     11  0.086267\n",
              "23  STL     12  0.078387"
            ],
            "text/html": [
              "\n",
              "  <div id=\"df-379326fa-c06a-4121-87fd-027b1674f4a0\">\n",
              "    <div class=\"colab-df-container\">\n",
              "      <div>\n",
              "<style scoped>\n",
              "    .dataframe tbody tr th:only-of-type {\n",
              "        vertical-align: middle;\n",
              "    }\n",
              "\n",
              "    .dataframe tbody tr th {\n",
              "        vertical-align: top;\n",
              "    }\n",
              "\n",
              "    .dataframe thead th {\n",
              "        text-align: right;\n",
              "    }\n",
              "</style>\n",
              "<table border=\"1\" class=\"dataframe\">\n",
              "  <thead>\n",
              "    <tr style=\"text-align: right;\">\n",
              "      <th></th>\n",
              "      <th>city</th>\n",
              "      <th>month</th>\n",
              "      <th>avg_prcp</th>\n",
              "    </tr>\n",
              "  </thead>\n",
              "  <tbody>\n",
              "    <tr>\n",
              "      <th>0</th>\n",
              "      <td>SEA</td>\n",
              "      <td>1</td>\n",
              "      <td>0.230742</td>\n",
              "    </tr>\n",
              "    <tr>\n",
              "      <th>1</th>\n",
              "      <td>SEA</td>\n",
              "      <td>2</td>\n",
              "      <td>0.176472</td>\n",
              "    </tr>\n",
              "    <tr>\n",
              "      <th>2</th>\n",
              "      <td>SEA</td>\n",
              "      <td>3</td>\n",
              "      <td>0.089075</td>\n",
              "    </tr>\n",
              "    <tr>\n",
              "      <th>3</th>\n",
              "      <td>SEA</td>\n",
              "      <td>4</td>\n",
              "      <td>0.100483</td>\n",
              "    </tr>\n",
              "    <tr>\n",
              "      <th>4</th>\n",
              "      <td>SEA</td>\n",
              "      <td>5</td>\n",
              "      <td>0.069161</td>\n",
              "    </tr>\n",
              "    <tr>\n",
              "      <th>5</th>\n",
              "      <td>SEA</td>\n",
              "      <td>6</td>\n",
              "      <td>0.063167</td>\n",
              "    </tr>\n",
              "    <tr>\n",
              "      <th>6</th>\n",
              "      <td>SEA</td>\n",
              "      <td>7</td>\n",
              "      <td>0.013984</td>\n",
              "    </tr>\n",
              "    <tr>\n",
              "      <th>7</th>\n",
              "      <td>SEA</td>\n",
              "      <td>8</td>\n",
              "      <td>0.019995</td>\n",
              "    </tr>\n",
              "    <tr>\n",
              "      <th>8</th>\n",
              "      <td>SEA</td>\n",
              "      <td>9</td>\n",
              "      <td>0.055622</td>\n",
              "    </tr>\n",
              "    <tr>\n",
              "      <th>9</th>\n",
              "      <td>SEA</td>\n",
              "      <td>10</td>\n",
              "      <td>0.118452</td>\n",
              "    </tr>\n",
              "    <tr>\n",
              "      <th>10</th>\n",
              "      <td>SEA</td>\n",
              "      <td>11</td>\n",
              "      <td>0.201867</td>\n",
              "    </tr>\n",
              "    <tr>\n",
              "      <th>11</th>\n",
              "      <td>SEA</td>\n",
              "      <td>12</td>\n",
              "      <td>0.224903</td>\n",
              "    </tr>\n",
              "    <tr>\n",
              "      <th>12</th>\n",
              "      <td>STL</td>\n",
              "      <td>1</td>\n",
              "      <td>0.102065</td>\n",
              "    </tr>\n",
              "    <tr>\n",
              "      <th>13</th>\n",
              "      <td>STL</td>\n",
              "      <td>2</td>\n",
              "      <td>0.118298</td>\n",
              "    </tr>\n",
              "    <tr>\n",
              "      <th>14</th>\n",
              "      <td>STL</td>\n",
              "      <td>3</td>\n",
              "      <td>0.171355</td>\n",
              "    </tr>\n",
              "    <tr>\n",
              "      <th>15</th>\n",
              "      <td>STL</td>\n",
              "      <td>4</td>\n",
              "      <td>0.143733</td>\n",
              "    </tr>\n",
              "    <tr>\n",
              "      <th>16</th>\n",
              "      <td>STL</td>\n",
              "      <td>5</td>\n",
              "      <td>0.174839</td>\n",
              "    </tr>\n",
              "    <tr>\n",
              "      <th>17</th>\n",
              "      <td>STL</td>\n",
              "      <td>6</td>\n",
              "      <td>0.117200</td>\n",
              "    </tr>\n",
              "    <tr>\n",
              "      <th>18</th>\n",
              "      <td>STL</td>\n",
              "      <td>7</td>\n",
              "      <td>0.225419</td>\n",
              "    </tr>\n",
              "    <tr>\n",
              "      <th>19</th>\n",
              "      <td>STL</td>\n",
              "      <td>8</td>\n",
              "      <td>0.169871</td>\n",
              "    </tr>\n",
              "    <tr>\n",
              "      <th>20</th>\n",
              "      <td>STL</td>\n",
              "      <td>9</td>\n",
              "      <td>0.062333</td>\n",
              "    </tr>\n",
              "    <tr>\n",
              "      <th>21</th>\n",
              "      <td>STL</td>\n",
              "      <td>10</td>\n",
              "      <td>0.109677</td>\n",
              "    </tr>\n",
              "    <tr>\n",
              "      <th>22</th>\n",
              "      <td>STL</td>\n",
              "      <td>11</td>\n",
              "      <td>0.086267</td>\n",
              "    </tr>\n",
              "    <tr>\n",
              "      <th>23</th>\n",
              "      <td>STL</td>\n",
              "      <td>12</td>\n",
              "      <td>0.078387</td>\n",
              "    </tr>\n",
              "  </tbody>\n",
              "</table>\n",
              "</div>\n",
              "      <button class=\"colab-df-convert\" onclick=\"convertToInteractive('df-379326fa-c06a-4121-87fd-027b1674f4a0')\"\n",
              "              title=\"Convert this dataframe to an interactive table.\"\n",
              "              style=\"display:none;\">\n",
              "        \n",
              "  <svg xmlns=\"http://www.w3.org/2000/svg\" height=\"24px\"viewBox=\"0 0 24 24\"\n",
              "       width=\"24px\">\n",
              "    <path d=\"M0 0h24v24H0V0z\" fill=\"none\"/>\n",
              "    <path d=\"M18.56 5.44l.94 2.06.94-2.06 2.06-.94-2.06-.94-.94-2.06-.94 2.06-2.06.94zm-11 1L8.5 8.5l.94-2.06 2.06-.94-2.06-.94L8.5 2.5l-.94 2.06-2.06.94zm10 10l.94 2.06.94-2.06 2.06-.94-2.06-.94-.94-2.06-.94 2.06-2.06.94z\"/><path d=\"M17.41 7.96l-1.37-1.37c-.4-.4-.92-.59-1.43-.59-.52 0-1.04.2-1.43.59L10.3 9.45l-7.72 7.72c-.78.78-.78 2.05 0 2.83L4 21.41c.39.39.9.59 1.41.59.51 0 1.02-.2 1.41-.59l7.78-7.78 2.81-2.81c.8-.78.8-2.07 0-2.86zM5.41 20L4 18.59l7.72-7.72 1.47 1.35L5.41 20z\"/>\n",
              "  </svg>\n",
              "      </button>\n",
              "      \n",
              "  <style>\n",
              "    .colab-df-container {\n",
              "      display:flex;\n",
              "      flex-wrap:wrap;\n",
              "      gap: 12px;\n",
              "    }\n",
              "\n",
              "    .colab-df-convert {\n",
              "      background-color: #E8F0FE;\n",
              "      border: none;\n",
              "      border-radius: 50%;\n",
              "      cursor: pointer;\n",
              "      display: none;\n",
              "      fill: #1967D2;\n",
              "      height: 32px;\n",
              "      padding: 0 0 0 0;\n",
              "      width: 32px;\n",
              "    }\n",
              "\n",
              "    .colab-df-convert:hover {\n",
              "      background-color: #E2EBFA;\n",
              "      box-shadow: 0px 1px 2px rgba(60, 64, 67, 0.3), 0px 1px 3px 1px rgba(60, 64, 67, 0.15);\n",
              "      fill: #174EA6;\n",
              "    }\n",
              "\n",
              "    [theme=dark] .colab-df-convert {\n",
              "      background-color: #3B4455;\n",
              "      fill: #D2E3FC;\n",
              "    }\n",
              "\n",
              "    [theme=dark] .colab-df-convert:hover {\n",
              "      background-color: #434B5C;\n",
              "      box-shadow: 0px 1px 3px 1px rgba(0, 0, 0, 0.15);\n",
              "      filter: drop-shadow(0px 1px 2px rgba(0, 0, 0, 0.3));\n",
              "      fill: #FFFFFF;\n",
              "    }\n",
              "  </style>\n",
              "\n",
              "      <script>\n",
              "        const buttonEl =\n",
              "          document.querySelector('#df-379326fa-c06a-4121-87fd-027b1674f4a0 button.colab-df-convert');\n",
              "        buttonEl.style.display =\n",
              "          google.colab.kernel.accessAllowed ? 'block' : 'none';\n",
              "\n",
              "        async function convertToInteractive(key) {\n",
              "          const element = document.querySelector('#df-379326fa-c06a-4121-87fd-027b1674f4a0');\n",
              "          const dataTable =\n",
              "            await google.colab.kernel.invokeFunction('convertToInteractive',\n",
              "                                                     [key], {});\n",
              "          if (!dataTable) return;\n",
              "\n",
              "          const docLinkHtml = 'Like what you see? Visit the ' +\n",
              "            '<a target=\"_blank\" href=https://colab.research.google.com/notebooks/data_table.ipynb>data table notebook</a>'\n",
              "            + ' to learn more about interactive tables.';\n",
              "          element.innerHTML = '';\n",
              "          dataTable['output_type'] = 'display_data';\n",
              "          await google.colab.output.renderOutput(dataTable, element);\n",
              "          const docLink = document.createElement('div');\n",
              "          docLink.innerHTML = docLinkHtml;\n",
              "          element.appendChild(docLink);\n",
              "        }\n",
              "      </script>\n",
              "    </div>\n",
              "  </div>\n",
              "  "
            ]
          },
          "metadata": {},
          "execution_count": 23
        }
      ]
    },
    {
      "cell_type": "markdown",
      "source": [
        "Now this data can be plotted as a bar graph."
      ],
      "metadata": {
        "id": "RAWShS7mDXxs"
      }
    },
    {
      "cell_type": "markdown",
      "source": [
        "With the numbered months (1-12) along the x-axis, the average precipitation in inches for each city is plotted against the y-axis. The blue bars represent the average rainfall for Seattle, and the orange represents St. Louis' rainfall."
      ],
      "metadata": {
        "id": "Xet6AvgwDovc"
      }
    },
    {
      "cell_type": "code",
      "source": [
        "plt.figure(figsize = (20, 5))\n",
        "\n",
        "\n",
        "city_month = df_rain.groupby(['city', 'month'])\n",
        "\n",
        "monthly_avg_prcp = city_month['precipitation'].mean().reset_index(name = 'avg_prcp')\n",
        "\n",
        "sns.barplot(x = 'month', y = 'avg_prcp', hue = 'city', data = monthly_avg_prcp)\n",
        "\n",
        "plt.title('Average Precipitation by Month')\n",
        "plt.xlabel('Month', fontsize = 18)\n",
        "plt.ylabel('Average Precipitation (inches)', fontsize = 18)\n",
        "plt.tick_params(labelsize = 15)\n",
        "\n",
        "plt.show()"
      ],
      "metadata": {
        "colab": {
          "base_uri": "https://localhost:8080/",
          "height": 384
        },
        "id": "jOZXYDbDDuL4",
        "outputId": "4291f993-59e7-418c-9e7a-6733f20b695d"
      },
      "execution_count": 26,
      "outputs": [
        {
          "output_type": "display_data",
          "data": {
            "text/plain": [
              "<Figure size 2000x500 with 1 Axes>"
            ],
            "image/png": "[encoded data removed]"
          },
          "metadata": {}
        }
      ]
    },
    {
      "cell_type": "markdown",
      "source": [
        "Looks like STL had a higher average recorded monthly rainfall!"
      ],
      "metadata": {
        "id": "ijLFJVZ2FA_s"
      }
    },
    {
      "cell_type": "markdown",
      "source": [
        "### Average Yearly Rainfall"
      ],
      "metadata": {
        "id": "n2_0lu19LPtG"
      }
    },
    {
      "cell_type": "markdown",
      "source": [
        "Now let's make a similar dataframe of average rainfall for each city, but grouped by year instead of by month. The commented code at the beginnning of the notebook is what creates the 'year' column that will be used for this analysis."
      ],
      "metadata": {
        "id": "xSFt0jT1KjLj"
      }
    },
    {
      "cell_type": "code",
      "source": [
        "city_month = df_rain.groupby(['city', 'year'])\n",
        "\n",
        "yearly_avg_prcp = city_month['precipitation'].mean().reset_index(name = 'avg_prcp')\n",
        "\n",
        "\n",
        "yearly_avg_prcp"
      ],
      "metadata": {
        "colab": {
          "base_uri": "https://localhost:8080/",
          "height": 363
        },
        "id": "qfPMsn1aJEW6",
        "outputId": "3627be5a-6d50-463f-e9e4-99da1b3044ff"
      },
      "execution_count": 25,
      "outputs": [
        {
          "output_type": "execute_result",
          "data": {
            "text/plain": [
              "  city  year  avg_prcp\n",
              "0  SEA  2018  0.102039\n",
              "1  SEA  2019  0.105900\n",
              "2  SEA  2020  0.118092\n",
              "3  SEA  2021  0.121737\n",
              "4  SEA  2022  0.118571\n",
              "5  STL  2018  0.116712\n",
              "6  STL  2019  0.147918\n",
              "7  STL  2020  0.136612\n",
              "8  STL  2021  0.116384\n",
              "9  STL  2022  0.134082"
            ],
            "text/html": [
              "\n",
              "  <div id=\"df-34a39c8a-c036-4840-9ec4-f93dc1f6a227\">\n",
              "    <div class=\"colab-df-container\">\n",
              "      <div>\n",
              "<style scoped>\n",
              "    .dataframe tbody tr th:only-of-type {\n",
              "        vertical-align: middle;\n",
              "    }\n",
              "\n",
              "    .dataframe tbody tr th {\n",
              "        vertical-align: top;\n",
              "    }\n",
              "\n",
              "    .dataframe thead th {\n",
              "        text-align: right;\n",
              "    }\n",
              "</style>\n",
              "<table border=\"1\" class=\"dataframe\">\n",
              "  <thead>\n",
              "    <tr style=\"text-align: right;\">\n",
              "      <th></th>\n",
              "      <th>city</th>\n",
              "      <th>year</th>\n",
              "      <th>avg_prcp</th>\n",
              "    </tr>\n",
              "  </thead>\n",
              "  <tbody>\n",
              "    <tr>\n",
              "      <th>0</th>\n",
              "      <td>SEA</td>\n",
              "      <td>2018</td>\n",
              "      <td>0.102039</td>\n",
              "    </tr>\n",
              "    <tr>\n",
              "      <th>1</th>\n",
              "      <td>SEA</td>\n",
              "      <td>2019</td>\n",
              "      <td>0.105900</td>\n",
              "    </tr>\n",
              "    <tr>\n",
              "      <th>2</th>\n",
              "      <td>SEA</td>\n",
              "      <td>2020</td>\n",
              "      <td>0.118092</td>\n",
              "    </tr>\n",
              "    <tr>\n",
              "      <th>3</th>\n",
              "      <td>SEA</td>\n",
              "      <td>2021</td>\n",
              "      <td>0.121737</td>\n",
              "    </tr>\n",
              "    <tr>\n",
              "      <th>4</th>\n",
              "      <td>SEA</td>\n",
              "      <td>2022</td>\n",
              "      <td>0.118571</td>\n",
              "    </tr>\n",
              "    <tr>\n",
              "      <th>5</th>\n",
              "      <td>STL</td>\n",
              "      <td>2018</td>\n",
              "      <td>0.116712</td>\n",
              "    </tr>\n",
              "    <tr>\n",
              "      <th>6</th>\n",
              "      <td>STL</td>\n",
              "      <td>2019</td>\n",
              "      <td>0.147918</td>\n",
              "    </tr>\n",
              "    <tr>\n",
              "      <th>7</th>\n",
              "      <td>STL</td>\n",
              "      <td>2020</td>\n",
              "      <td>0.136612</td>\n",
              "    </tr>\n",
              "    <tr>\n",
              "      <th>8</th>\n",
              "      <td>STL</td>\n",
              "      <td>2021</td>\n",
              "      <td>0.116384</td>\n",
              "    </tr>\n",
              "    <tr>\n",
              "      <th>9</th>\n",
              "      <td>STL</td>\n",
              "      <td>2022</td>\n",
              "      <td>0.134082</td>\n",
              "    </tr>\n",
              "  </tbody>\n",
              "</table>\n",
              "</div>\n",
              "      <button class=\"colab-df-convert\" onclick=\"convertToInteractive('df-34a39c8a-c036-4840-9ec4-f93dc1f6a227')\"\n",
              "              title=\"Convert this dataframe to an interactive table.\"\n",
              "              style=\"display:none;\">\n",
              "        \n",
              "  <svg xmlns=\"http://www.w3.org/2000/svg\" height=\"24px\"viewBox=\"0 0 24 24\"\n",
              "       width=\"24px\">\n",
              "    <path d=\"M0 0h24v24H0V0z\" fill=\"none\"/>\n",
              "    <path d=\"M18.56 5.44l.94 2.06.94-2.06 2.06-.94-2.06-.94-.94-2.06-.94 2.06-2.06.94zm-11 1L8.5 8.5l.94-2.06 2.06-.94-2.06-.94L8.5 2.5l-.94 2.06-2.06.94zm10 10l.94 2.06.94-2.06 2.06-.94-2.06-.94-.94-2.06-.94 2.06-2.06.94z\"/><path d=\"M17.41 7.96l-1.37-1.37c-.4-.4-.92-.59-1.43-.59-.52 0-1.04.2-1.43.59L10.3 9.45l-7.72 7.72c-.78.78-.78 2.05 0 2.83L4 21.41c.39.39.9.59 1.41.59.51 0 1.02-.2 1.41-.59l7.78-7.78 2.81-2.81c.8-.78.8-2.07 0-2.86zM5.41 20L4 18.59l7.72-7.72 1.47 1.35L5.41 20z\"/>\n",
              "  </svg>\n",
              "      </button>\n",
              "      \n",
              "  <style>\n",
              "    .colab-df-container {\n",
              "      display:flex;\n",
              "      flex-wrap:wrap;\n",
              "      gap: 12px;\n",
              "    }\n",
              "\n",
              "    .colab-df-convert {\n",
              "      background-color: #E8F0FE;\n",
              "      border: none;\n",
              "      border-radius: 50%;\n",
              "      cursor: pointer;\n",
              "      display: none;\n",
              "      fill: #1967D2;\n",
              "      height: 32px;\n",
              "      padding: 0 0 0 0;\n",
              "      width: 32px;\n",
              "    }\n",
              "\n",
              "    .colab-df-convert:hover {\n",
              "      background-color: #E2EBFA;\n",
              "      box-shadow: 0px 1px 2px rgba(60, 64, 67, 0.3), 0px 1px 3px 1px rgba(60, 64, 67, 0.15);\n",
              "      fill: #174EA6;\n",
              "    }\n",
              "\n",
              "    [theme=dark] .colab-df-convert {\n",
              "      background-color: #3B4455;\n",
              "      fill: #D2E3FC;\n",
              "    }\n",
              "\n",
              "    [theme=dark] .colab-df-convert:hover {\n",
              "      background-color: #434B5C;\n",
              "      box-shadow: 0px 1px 3px 1px rgba(0, 0, 0, 0.15);\n",
              "      filter: drop-shadow(0px 1px 2px rgba(0, 0, 0, 0.3));\n",
              "      fill: #FFFFFF;\n",
              "    }\n",
              "  </style>\n",
              "\n",
              "      <script>\n",
              "        const buttonEl =\n",
              "          document.querySelector('#df-34a39c8a-c036-4840-9ec4-f93dc1f6a227 button.colab-df-convert');\n",
              "        buttonEl.style.display =\n",
              "          google.colab.kernel.accessAllowed ? 'block' : 'none';\n",
              "\n",
              "        async function convertToInteractive(key) {\n",
              "          const element = document.querySelector('#df-34a39c8a-c036-4840-9ec4-f93dc1f6a227');\n",
              "          const dataTable =\n",
              "            await google.colab.kernel.invokeFunction('convertToInteractive',\n",
              "                                                     [key], {});\n",
              "          if (!dataTable) return;\n",
              "\n",
              "          const docLinkHtml = 'Like what you see? Visit the ' +\n",
              "            '<a target=\"_blank\" href=https://colab.research.google.com/notebooks/data_table.ipynb>data table notebook</a>'\n",
              "            + ' to learn more about interactive tables.';\n",
              "          element.innerHTML = '';\n",
              "          dataTable['output_type'] = 'display_data';\n",
              "          await google.colab.output.renderOutput(dataTable, element);\n",
              "          const docLink = document.createElement('div');\n",
              "          docLink.innerHTML = docLinkHtml;\n",
              "          element.appendChild(docLink);\n",
              "        }\n",
              "      </script>\n",
              "    </div>\n",
              "  </div>\n",
              "  "
            ]
          },
          "metadata": {},
          "execution_count": 25
        }
      ]
    },
    {
      "cell_type": "markdown",
      "source": [
        "Now the data is ready to be plotted in a bar graph."
      ],
      "metadata": {
        "id": "AYW5NW3CKPMT"
      }
    },
    {
      "cell_type": "markdown",
      "source": [
        "With the years along the x-axis, the average precipitation in inches for each city is plotted against the y-axis. The blue bars represent the average yearly rainfall for Seattle, and the orange represents St. Louis' rainfall."
      ],
      "metadata": {
        "id": "Ad2-8Xo-KSmX"
      }
    },
    {
      "cell_type": "code",
      "source": [
        "plt.figure(figsize = (20, 5))\n",
        "\n",
        "\n",
        "city_month = df_rain.groupby(['city', 'year'])\n",
        "\n",
        "yearly_avg_prcp = city_month['precipitation'].mean().reset_index(name = 'avg_prcp')\n",
        "\n",
        "sns.barplot(x = 'year', y = 'avg_prcp', hue = 'city', data = yearly_avg_prcp)\n",
        "\n",
        "plt.title('Average Precipitation by Year')\n",
        "plt.xlabel('Year', fontsize = 18)\n",
        "plt.ylabel('Average Precipitation (inches)', fontsize = 18)\n",
        "plt.tick_params(labelsize = 15)\n",
        "\n",
        "plt.show()"
      ],
      "metadata": {
        "colab": {
          "base_uri": "https://localhost:8080/",
          "height": 527
        },
        "id": "NiWRFYoKJvlg",
        "outputId": "6379d326-bf5c-4f17-c90e-4b5545fc5b37"
      },
      "execution_count": 28,
      "outputs": [
        {
          "output_type": "display_data",
          "data": {
            "text/plain": [
              "<Figure size 2000x500 with 1 Axes>"
            ],
            "image/png": "[encoded data removed]"
          },
          "metadata": {}
        }
      ]
    },
    {
      "cell_type": "markdown",
      "source": [
        "St. Louis (STL) tends to have a higher average yearly rainfall than Seattle (SEA) aside from the year 2021, in which Seattle had a slightly higher average."
      ],
      "metadata": {
        "id": "j1QF2lo3KD_Y"
      }
    },
    {
      "cell_type": "markdown",
      "source": [
        "## Conclusion"
      ],
      "metadata": {
        "id": "OClcegJVrF8Y"
      }
    },
    {
      "cell_type": "markdown",
      "source": [
        "Overall, it appears that the city of Seattle has more actual recorded days where it rained (days where precipitation was recorded).\n",
        "\n",
        "On the other hand, the city of St. Louis overall had heavier rainfall, meaning that more precipitation was recorded when it actually rained there as compared to Seattle. So even though there were less rainy days in STL than in SEA, the days where it did rain in STL experienced more rain during those times."
      ],
      "metadata": {
        "id": "45aRW_rjrHT5"
      }
    }
  ]
}